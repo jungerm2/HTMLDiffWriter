{
 "cells": [
  {
   "cell_type": "code",
   "execution_count": 1,
   "metadata": {},
   "outputs": [],
   "source": [
    "import matplotlib.pyplot as plt\n",
    "from matplotlib.animation import FuncAnimation\n",
    "import numpy as np\n",
    "\n",
    "from SVGFuncAnimation import SVGFuncAnimation\n",
    "\n",
    "plt.rcParams['animation.frame_format'] = 'svg'\n",
    "plt.rcParams['animation.html'] = 'jshtml'\n",
    "plt.rcParams['animation.embed_limit'] = 2 ** 128"
   ]
  },
  {
   "cell_type": "code",
   "execution_count": 2,
   "metadata": {},
   "outputs": [
    {
     "name": "stdout",
     "output_type": "stream",
     "text": [
      "Size: 31,604,895\n",
      "Wall time: 32.5 s\n"
     ]
    }
   ],
   "source": [
    "%%time\n",
    "\n",
    "# Test the standard FuncAnimation + HTMLWriter (implicitly used by to_jshtml)\n",
    "\n",
    "np.random.seed(0)\n",
    "\n",
    "def update_line(num, data, line):\n",
    "    line.set_data(range(num), data[:num])\n",
    "    return line,\n",
    "\n",
    "\n",
    "size = 1000\n",
    "fig = plt.figure()\n",
    "data = np.random.rand(size)\n",
    "l, = plt.plot([], [], 'r-')\n",
    "plt.xlim(0, size - 1)\n",
    "plt.ylim(0, 1)\n",
    "\n",
    "anim = FuncAnimation(fig, update_line, range(1, size + 1), fargs=(data, l),\n",
    "                           interval=150, blit=True)\n",
    "plt.close(fig)\n",
    "\n",
    "print(f'Size: {len(anim.to_jshtml()):,}')"
   ]
  },
  {
   "cell_type": "code",
   "execution_count": 3,
   "metadata": {},
   "outputs": [
    {
     "name": "stdout",
     "output_type": "stream",
     "text": [
      "Size: 12,099,145\n",
      "Wall time: 1.04 s\n"
     ]
    }
   ],
   "source": [
    "%%time\n",
    "\n",
    "# Test SVGFuncAnimation (which uses it's own, built-in Writer)\n",
    "\n",
    "np.random.seed(0)\n",
    "\n",
    "def update_line(num, data, line):\n",
    "    line.set_data(range(num), data[:num])\n",
    "    return line,\n",
    "\n",
    "size = 1000\n",
    "fig = plt.figure()\n",
    "data = np.random.rand(size)\n",
    "l, = plt.plot([], [], 'r-')\n",
    "plt.xlim(0, size - 1)\n",
    "plt.ylim(0, 1)\n",
    "\n",
    "svganim = SVGFuncAnimation(fig, update_line, range(1, size + 1), fargs=(data, l))\n",
    "\n",
    "plt.close(fig)\n",
    "\n",
    "print(f'Size: {len(svganim.to_jshtml()):,}')"
   ]
  }
 ],
 "metadata": {
  "kernelspec": {
   "display_name": "Python 3",
   "language": "python",
   "name": "python3"
  },
  "language_info": {
   "codemirror_mode": {
    "name": "ipython",
    "version": 3
   },
   "file_extension": ".py",
   "mimetype": "text/x-python",
   "name": "python",
   "nbconvert_exporter": "python",
   "pygments_lexer": "ipython3",
   "version": "3.8.3"
  }
 },
 "nbformat": 4,
 "nbformat_minor": 1
}
