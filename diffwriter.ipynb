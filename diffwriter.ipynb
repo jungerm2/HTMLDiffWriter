{
 "cells": [
  {
   "cell_type": "code",
   "execution_count": 1,
   "metadata": {},
   "outputs": [],
   "source": [
    "from pathlib import Path\n",
    "from tempfile import TemporaryDirectory\n",
    "\n",
    "import matplotlib.pyplot as plt\n",
    "from matplotlib.animation import FuncAnimation, HTMLWriter\n",
    "import numpy as np\n",
    "\n",
    "from HTMLDiffWriter import HTMLDiffWriter\n",
    "\n",
    "plt.rcParams['animation.frame_format'] = 'svg'\n",
    "plt.rcParams['animation.html'] = 'jshtml'\n",
    "plt.rcParams['animation.embed_limit'] = 2 ** 128"
   ]
  },
  {
   "cell_type": "code",
   "execution_count": 2,
   "metadata": {},
   "outputs": [],
   "source": [
    "np.random.seed(0)\n",
    "\n",
    "def update_line(num, data, line):\n",
    "    line.set_data(range(num), data[:num])\n",
    "    return line,\n",
    "\n",
    "size = 1000\n",
    "fig = plt.figure()\n",
    "data = np.random.rand(size)\n",
    "l, = plt.plot([], [], 'r-')\n",
    "plt.xlim(0, size - 1)\n",
    "plt.ylim(0, 1)\n",
    "\n",
    "anim = FuncAnimation(fig, update_line, range(1, size + 1), fargs=(data, l),\n",
    "                           interval=50, blit=True)\n",
    "\n",
    "plt.close(fig)"
   ]
  },
  {
   "cell_type": "code",
   "execution_count": 3,
   "metadata": {},
   "outputs": [
    {
     "name": "stdout",
     "output_type": "stream",
     "text": [
      "Size: 31,604,892\n",
      "Wall time: 49.2 s\n"
     ]
    }
   ],
   "source": [
    "%%time\n",
    "\n",
    "# Test the standard HTMLWriter\n",
    "\n",
    "with TemporaryDirectory() as tmpdir:\n",
    "    path = Path(tmpdir, \"temp.html\")\n",
    "    writer = HTMLWriter(embed_frames=True)\n",
    "    anim.save(str(path), writer=writer)\n",
    "    html_representation = path.read_text()\n",
    "\n",
    "print(f'Size: {len(html_representation):,}')"
   ]
  },
  {
   "cell_type": "code",
   "execution_count": 4,
   "metadata": {},
   "outputs": [
    {
     "name": "stdout",
     "output_type": "stream",
     "text": [
      "Size: 13,313,029\n",
      "Wall time: 5min 28s\n"
     ]
    }
   ],
   "source": [
    "%%time\n",
    "\n",
    "# Test the HTMLDiffWriter\n",
    "\n",
    "with TemporaryDirectory() as tmpdir:\n",
    "    path = Path(tmpdir, \"temp.html\")\n",
    "    diff_writer = HTMLDiffWriter(embed_frames=True)\n",
    "    anim.save(str(path), writer=diff_writer)\n",
    "    html_representation = path.read_text()\n",
    "\n",
    "print(f'Size: {len(html_representation):,}')"
   ]
  },
  {
   "cell_type": "code",
   "execution_count": null,
   "metadata": {},
   "outputs": [],
   "source": []
  }
 ],
 "metadata": {
  "kernelspec": {
   "display_name": "Python 3",
   "language": "python",
   "name": "python3"
  },
  "language_info": {
   "codemirror_mode": {
    "name": "ipython",
    "version": 3
   },
   "file_extension": ".py",
   "mimetype": "text/x-python",
   "name": "python",
   "nbconvert_exporter": "python",
   "pygments_lexer": "ipython3",
   "version": "3.8.3"
  }
 },
 "nbformat": 4,
 "nbformat_minor": 1
}
